{
 "cells": [
  {
   "cell_type": "code",
   "execution_count": null,
   "metadata": {},
   "outputs": [],
   "source": [
    "students = [\"Hermoine\", \"Harry\", \"Ron\"]\n",
    "for student in students:\n",
    "    print(student)"
   ]
  },
  {
   "cell_type": "code",
   "execution_count": null,
   "metadata": {},
   "outputs": [],
   "source": [
    "print(\"Hello, World!\")\n",
    "name = input(\"What's your name? \")\n",
    "print(\"Hello\", name) "
   ]
  },
  {
   "cell_type": "code",
   "execution_count": 5,
   "metadata": {},
   "outputs": [
    {
     "name": "stdout",
     "output_type": "stream",
     "text": [
      "1 Hermoine\n",
      "2 Harry\n",
      "3 Ron\n"
     ]
    }
   ],
   "source": [
    "students = [\"Hermoine\", \"Harry\", \"Ron\"]\n",
    "for i in range(len(students)):\n",
    "    print(i + 1, students[i])"
   ]
  },
  {
   "cell_type": "code",
   "execution_count": 7,
   "metadata": {},
   "outputs": [
    {
     "name": "stdout",
     "output_type": "stream",
     "text": [
      "Hermoine, Gryffindor\n",
      "Harry, Griffindor\n",
      "Ron, Gryffindor\n",
      "Draco, Slytherin\n"
     ]
    }
   ],
   "source": [
    "#students = [\"Hermoine\", \"Harry\", \"Ron\", \"Draco\"]\n",
    "#houses = [\"Gryffindor\", \"Gryffindor\", \"Gryffindor\", \"Slytherin\"]\n",
    "\n",
    "students = {\n",
    "    \"Hermoine\": \"Gryffindor\", \n",
    "    \"Harry\":\"Griffindor\", \n",
    "    \"Ron\": \"Gryffindor\", \n",
    "    \"Draco\": \"Slytherin\"\n",
    "    }\n",
    "\n",
    "for student in students:\n",
    "    print(student, students[student], sep=\", \")"
   ]
  },
  {
   "cell_type": "code",
   "execution_count": 9,
   "metadata": {},
   "outputs": [
    {
     "name": "stdout",
     "output_type": "stream",
     "text": [
      "Hermoine, Gryffindor, A\n",
      "Harry, Griffindor, B\n",
      "Ron, Gryffindor, C\n",
      "Draco, Slytherin, None\n"
     ]
    }
   ],
   "source": [
    "students = [\n",
    "    {\"name\": \"Hermoine\", \"house\": \"Gryffindor\", \"patronus\" : \"A\"},\n",
    "    {\"name\": \"Harry\", \"house\":\"Griffindor\", \"patronus\" : \"B\"},\n",
    "    {\"name\": \"Ron\", \"house\": \"Gryffindor\", \"patronus\" : \"C\"},\n",
    "    {\"name\": \"Draco\", \"house\": \"Slytherin\", \"patronus\" : None}\n",
    "]\n",
    "\n",
    "for student in students:\n",
    "    print(student[\"name\"], student[\"house\"], student[\"patronus\"], sep=\", \")"
   ]
  },
  {
   "cell_type": "code",
   "execution_count": 17,
   "metadata": {},
   "outputs": [
    {
     "name": "stdout",
     "output_type": "stream",
     "text": [
      "###\n",
      "###\n",
      "###\n"
     ]
    }
   ],
   "source": [
    "def main():\n",
    "    print_square(3)\n",
    "\n",
    "def print_square(height):\n",
    "    for h in range(height):\n",
    "        print_row(height)\n",
    "\n",
    "def print_row(size):\n",
    "    print(\"#\" * size)\n",
    "\n",
    "main()"
   ]
  },
  {
   "cell_type": "code",
   "execution_count": 19,
   "metadata": {},
   "outputs": [
    {
     "name": "stdout",
     "output_type": "stream",
     "text": [
      "###\n",
      "###\n",
      "###\n"
     ]
    }
   ],
   "source": [
    "def main():\n",
    "    print_square(3)\n",
    "\n",
    "def print_square(height):\n",
    "    for h in range(height):\n",
    "        print(\"#\" * height)\n",
    "\n",
    "main()"
   ]
  },
  {
   "cell_type": "code",
   "execution_count": 3,
   "metadata": {},
   "outputs": [
    {
     "name": "stdout",
     "output_type": "stream",
     "text": [
      "n is not an integer\n"
     ]
    }
   ],
   "source": [
    "try:\n",
    "    n = int(input(\"What's n? \"))\n",
    "    print(f\"n is {n}\")\n",
    "except ValueError:\n",
    "    print(\"n is not an integer\")"
   ]
  },
  {
   "cell_type": "code",
   "execution_count": 6,
   "metadata": {},
   "outputs": [
    {
     "name": "stdout",
     "output_type": "stream",
     "text": [
      "n is not an integer\n"
     ]
    }
   ],
   "source": [
    "try:\n",
    "    n = int(input(\"What's n? \"))\n",
    "except ValueError:\n",
    "    print(\"n is not an integer\")\n",
    "else:\n",
    "    print(f\"n is {n}\")"
   ]
  },
  {
   "cell_type": "code",
   "execution_count": 7,
   "metadata": {},
   "outputs": [
    {
     "name": "stdout",
     "output_type": "stream",
     "text": [
      "n is not an integer\n",
      "n is not an integer\n",
      "n is not an integer\n",
      "n value is 5\n"
     ]
    }
   ],
   "source": [
    "while True:\n",
    "    try:\n",
    "        n = int(input(\"What's n? \"))\n",
    "    except ValueError:\n",
    "        print(\"n is not an integer\")\n",
    "    else:\n",
    "        break\n",
    "print(f\"n value is {n}\")"
   ]
  },
  {
   "cell_type": "code",
   "execution_count": 8,
   "metadata": {},
   "outputs": [
    {
     "name": "stdout",
     "output_type": "stream",
     "text": [
      "5\n"
     ]
    }
   ],
   "source": [
    "def get_int():\n",
    "    while True:\n",
    "        try:\n",
    "            n = int(input(\"What's n? \"))\n",
    "        except ValueError:\n",
    "            print(\"n is not an integer\")\n",
    "        else:\n",
    "            break\n",
    "    return n\n",
    "\n",
    "def main():\n",
    "    print(get_int())\n",
    "\n",
    "main()"
   ]
  },
  {
   "cell_type": "code",
   "execution_count": 9,
   "metadata": {},
   "outputs": [
    {
     "name": "stdout",
     "output_type": "stream",
     "text": [
      "n is not an integer\n",
      "343\n"
     ]
    }
   ],
   "source": [
    "def get_int():\n",
    "    while True:\n",
    "        try:\n",
    "            n = int(input(\"What's n? \"))\n",
    "        except ValueError:\n",
    "            print(\"n is not an integer\")\n",
    "        else:\n",
    "            return n\n",
    "\n",
    "def main():\n",
    "    print(get_int())\n",
    "\n",
    "main()"
   ]
  },
  {
   "cell_type": "code",
   "execution_count": 10,
   "metadata": {},
   "outputs": [
    {
     "name": "stdout",
     "output_type": "stream",
     "text": [
      "n is not an integer\n",
      "32423\n"
     ]
    }
   ],
   "source": [
    "def get_int():\n",
    "    while True:\n",
    "        try:\n",
    "            n = int(input(\"What's n? \"))\n",
    "            return n\n",
    "        except ValueError:\n",
    "            print(\"n is not an integer\")\n",
    "\n",
    "def main():\n",
    "    print(get_int())\n",
    "\n",
    "main()"
   ]
  },
  {
   "cell_type": "code",
   "execution_count": 1,
   "metadata": {},
   "outputs": [
    {
     "name": "stdout",
     "output_type": "stream",
     "text": [
      "n is not an integer\n",
      "n is not an integer\n",
      "n is 23\n"
     ]
    }
   ],
   "source": [
    "def get_int(prompt):\n",
    "    while True:\n",
    "        try:\n",
    "            n = int(input(prompt))\n",
    "            return n\n",
    "        except ValueError:\n",
    "            print(\"n is not an integer\")\n",
    "\n",
    "def main():\n",
    "    n = get_int(\"What's x? \")\n",
    "    print(f\"n is {n}\")\n",
    "\n",
    "main()"
   ]
  }
 ],
 "metadata": {
  "kernelspec": {
   "display_name": "Python 3",
   "language": "python",
   "name": "python3"
  },
  "language_info": {
   "codemirror_mode": {
    "name": "ipython",
    "version": 3
   },
   "file_extension": ".py",
   "mimetype": "text/x-python",
   "name": "python",
   "nbconvert_exporter": "python",
   "pygments_lexer": "ipython3",
   "version": "3.9.6"
  }
 },
 "nbformat": 4,
 "nbformat_minor": 2
}
